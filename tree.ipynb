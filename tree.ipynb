{
 "cells": [
  {
   "cell_type": "code",
   "execution_count": null,
   "metadata": {},
   "outputs": [],
   "source": [
    "import matplotlib.pyplot as plt\n",
    "import numpy as np\n",
    "\n",
    "v = [0.0, -14.0, -12.0, -8.0, -10.0, \n",
    "     -6.0, -4.0, -6.0, -3.0, -1.0, 0.0]\n",
    "fig, ax = plt.subplots(figsize=(3, 4))\n",
    "ax.barh(np.arange(len(v)), v, color='#2E8B57', label='Happy')\n",
    "ax.barh(np.arange(len(v)), [0-x for x in v], color='#3CB371', label='Holidays')\n",
    "ax.plot(0, len(v)-1, '*', color='#FFD700', markersize=30) \n",
    "ax.set_yticks([])\n",
    "ax.set_xticks([])\n",
    "ax.legend(loc='lower right')\n",
    "plt.show()"
   ]
  }
 ],
 "metadata": {
  "kernelspec": {
   "display_name": ".venv",
   "language": "python",
   "name": "python3"
  },
  "language_info": {
   "codemirror_mode": {
    "name": "ipython",
    "version": 3
   },
   "file_extension": ".py",
   "mimetype": "text/x-python",
   "name": "python",
   "nbconvert_exporter": "python",
   "pygments_lexer": "ipython3",
   "version": "3.10.4"
  }
 },
 "nbformat": 4,
 "nbformat_minor": 2
}
